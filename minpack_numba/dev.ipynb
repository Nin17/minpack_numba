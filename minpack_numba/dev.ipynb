{
 "cells": [
  {
   "cell_type": "code",
   "execution_count": 26,
   "metadata": {},
   "outputs": [
    {
     "data": {
      "text/plain": [
       "((array([19.30978769, 12.42893002,  7.88318781]),\n",
       "  array([ 5.68434189e-14,  0.00000000e+00, -2.13162821e-14]),\n",
       "  True,\n",
       "  2),\n",
       " (array([19.30978769, 12.42893002,  7.88318781]),\n",
       "  array([ 5.68434189e-14,  0.00000000e+00, -7.10542736e-15]),\n",
       "  True,\n",
       "  2),\n",
       " array([19.30978769, 12.42893002,  7.88318781]))"
      ]
     },
     "execution_count": 26,
     "metadata": {},
     "output_type": "execute_result"
    }
   ],
   "source": [
    "from minpack_numba import lmdif1, sig_minpack_func2\n",
    "from NumbaMinpack import lmdif, minpack_sig\n",
    "\n",
    "from numba import cfunc\n",
    "import numba as nb\n",
    "import numpy as np\n",
    "import ctypes as ct\n",
    "\n",
    "import cffi\n",
    "\n",
    "ffi = cffi.FFI()\n",
    "\n",
    "\n",
    "@cfunc(sig_minpack_func2)\n",
    "def myfunc2(m, n, x, fvec, iflag, udata):\n",
    "    x = nb.carray(x, n, np.float64)\n",
    "    fvec = nb.carray(fvec, m, np.float64)\n",
    "    fvec[0] = x[0] ** 2 - 30.0 * x[1]\n",
    "    fvec[1] = x[1] ** 2 - 8.0 * x[0]\n",
    "    fvec[2] = x[2] ** 2 - 5.0 * x[1]\n",
    "    # fvec[:] = x ** 2\n",
    "    # fvec[0] -= 30.0 * x[1]\n",
    "    # fvec[1] -= 8.0 * x[0]\n",
    "    # fvec[2] -= 5.0 * x[1]\n",
    "    # fvec[(0, 2)] -= udata[0]\n",
    "\n",
    "    # # print(udata[0])\n",
    "    # fvec[0] = x[0] ** 2 - 30.0 * x[1] - nb.carray(udata, 2, np.float64).sum()\n",
    "    # fvec[1] = x[1] ** 2 - 8.0 * x[0] - udata[0]\n",
    "    # fvec[2] = x[2] ** 2 - 5.0 * x[1] + udata[1]\n",
    "    # # fvec[m] *= np.pi\n",
    "    # # print(\"hello\", m)\n",
    "    # for i in range(m-1):\n",
    "    #     fvec[i] *= np.pi\n",
    "    #     fvec[i] += i * 1000\n",
    "\n",
    "    # # print(\"hello\")\n",
    "    # iflag[0] = -1\n",
    "\n",
    "\n",
    "@cfunc(minpack_sig)\n",
    "def myfunc(x, fvec, udata):\n",
    "    fvec[0] = x[0] ** 2 - 30.0 * x[1]\n",
    "    fvec[1] = x[1] ** 2 - 8.0 * x[0]\n",
    "    fvec[2] = x[2] ** 2 - 5.0 * x[1]\n",
    "\n",
    "    # fvec[0] = x[0] ** 2 - 30.0 * x[1] - udata[0] - udata[1]\n",
    "    # fvec[1] = x[1] ** 2 - 8.0 * x[0] - udata[0]\n",
    "    # fvec[2] = x[2] ** 2 - 5.0 * x[1] + udata[1]\n",
    "\n",
    "    # fvec[0] *= np.pi\n",
    "    # fvec[1] *= np.pi\n",
    "    # # fvec[2] *= np.pi\n",
    "\n",
    "    # fvec[0] += 0\n",
    "    # fvec[1] += 1000\n",
    "    # fvec[2] += 2000\n",
    "\n",
    "\n",
    "x_init = np.array([10.0, 10.0, 10.0])  # initial conditions\n",
    "neqs = 3  # number of equations\n",
    "args = np.array([30.0, 8.0])\n",
    "\n",
    "lmdif1(myfunc2.address, a := x_init.copy(), neqs, 3, udata=args), lmdif(\n",
    "    myfunc.address, x_init, neqs, args=args\n",
    "), a"
   ]
  },
  {
   "cell_type": "code",
   "execution_count": 3,
   "metadata": {},
   "outputs": [
    {
     "data": {
      "text/plain": [
       "[ctypes.c_int,\n",
       " ctypes.c_int,\n",
       " ctypes.c_int,\n",
       " ctypes.c_void_p,\n",
       " ctypes.c_void_p,\n",
       " ctypes.c_double,\n",
       " ctypes.c_int,\n",
       " ctypes.c_int,\n",
       " ctypes.c_int,\n",
       " ctypes.c_int,\n",
       " ctypes.c_void_p]"
      ]
     },
     "execution_count": 3,
     "metadata": {},
     "output_type": "execute_result"
    }
   ],
   "source": [
    "from minpack_numba.minpack_numba import _lmdif1\n",
    "\n",
    "_lmdif1.argtypes"
   ]
  },
  {
   "cell_type": "code",
   "execution_count": 25,
   "metadata": {},
   "outputs": [
    {
     "data": {
      "text/plain": [
       "array([4, 6])"
      ]
     },
     "execution_count": 25,
     "metadata": {},
     "output_type": "execute_result"
    }
   ],
   "source": [
    "a = [np.array([1, 2]), np.array([3, 4])]\n",
    "sum(a)"
   ]
  },
  {
   "cell_type": "code",
   "execution_count": 2,
   "metadata": {},
   "outputs": [
    {
     "name": "stdout",
     "output_type": "stream",
     "text": [
      "3.99 µs ± 49.5 ns per loop (mean ± std. dev. of 7 runs, 100,000 loops each)\n",
      "4.2 µs ± 20.5 ns per loop (mean ± std. dev. of 7 runs, 100,000 loops each)\n"
     ]
    }
   ],
   "source": [
    "%timeit lmdif1(myfunc2.address, x_init.copy(), neqs, 3, udata=args)\n",
    "%timeit lmdif(myfunc.address, x_init, neqs, args=args)"
   ]
  },
  {
   "cell_type": "code",
   "execution_count": 3,
   "metadata": {},
   "outputs": [
    {
     "name": "stdout",
     "output_type": "stream",
     "text": [
      "[0. 1. 2. 3. 4.]\n",
      "[2. 3. 4. 5. 6.]\n"
     ]
    }
   ],
   "source": [
    "import ctypes\n",
    "import numba as nb\n",
    "import numpy as np\n",
    "\n",
    "arr = np.arange(5).astype(np.double)  # create arbitrary numpy array\n",
    "print(arr)\n",
    "\n",
    "\n",
    "@nb.extending.intrinsic\n",
    "def address_as_void_pointer(typingctx, src):\n",
    "    \"\"\"returns a void pointer from a given memory address\"\"\"\n",
    "    from numba.core import types, cgutils\n",
    "\n",
    "    sig = types.voidptr(src)\n",
    "\n",
    "    def codegen(cgctx, builder, sig, args):\n",
    "        return builder.inttoptr(args[0], cgutils.voidptr_t)\n",
    "\n",
    "    return sig, codegen\n",
    "\n",
    "\n",
    "addr = arr.ctypes.data\n",
    "\n",
    "\n",
    "@nb.njit\n",
    "def modify_data():\n",
    "    \"\"\"a function taking the memory address of an array to modify it\"\"\"\n",
    "    data = nb.carray(address_as_void_pointer(addr), arr.shape, dtype=arr.dtype)\n",
    "    data += 2\n",
    "\n",
    "\n",
    "modify_data()\n",
    "print(arr)"
   ]
  },
  {
   "cell_type": "code",
   "execution_count": 4,
   "metadata": {},
   "outputs": [
    {
     "ename": "NotImplementedError",
     "evalue": "<intrinsic address_as_void_pointer> is not usable in pure-python",
     "output_type": "error",
     "traceback": [
      "\u001b[0;31m---------------------------------------------------------------------------\u001b[0m",
      "\u001b[0;31mNotImplementedError\u001b[0m                       Traceback (most recent call last)",
      "Cell \u001b[0;32mIn[4], line 1\u001b[0m\n\u001b[0;32m----> 1\u001b[0m address_as_void_pointer(\u001b[39m10\u001b[39;49m)\n",
      "File \u001b[0;32m~/mambaforge/envs/mbipy310/lib/python3.10/site-packages/numba/core/extending.py:366\u001b[0m, in \u001b[0;36m_Intrinsic.__call__\u001b[0;34m(self, *args, **kwargs)\u001b[0m\n\u001b[1;32m    362\u001b[0m \u001b[39m\u001b[39m\u001b[39m\"\"\"\u001b[39;00m\n\u001b[1;32m    363\u001b[0m \u001b[39mThis is only defined to pretend to be a callable from CPython.\u001b[39;00m\n\u001b[1;32m    364\u001b[0m \u001b[39m\"\"\"\u001b[39;00m\n\u001b[1;32m    365\u001b[0m msg \u001b[39m=\u001b[39m \u001b[39m'\u001b[39m\u001b[39m{0}\u001b[39;00m\u001b[39m is not usable in pure-python\u001b[39m\u001b[39m'\u001b[39m\u001b[39m.\u001b[39mformat(\u001b[39mself\u001b[39m)\n\u001b[0;32m--> 366\u001b[0m \u001b[39mraise\u001b[39;00m \u001b[39mNotImplementedError\u001b[39;00m(msg)\n",
      "\u001b[0;31mNotImplementedError\u001b[0m: <intrinsic address_as_void_pointer> is not usable in pure-python"
     ]
    }
   ],
   "source": [
    "address_as_void_pointer()"
   ]
  },
  {
   "cell_type": "code",
   "execution_count": 4,
   "metadata": {},
   "outputs": [
    {
     "data": {
      "text/plain": [
       "<cdata 'char[]' buffer len 16 from 'numpy.ndarray' object>"
      ]
     },
     "execution_count": 4,
     "metadata": {},
     "output_type": "execute_result"
    }
   ],
   "source": [
    "ffi.from_buffer(args.astype(np.float64))"
   ]
  },
  {
   "cell_type": "code",
   "execution_count": 5,
   "metadata": {},
   "outputs": [
    {
     "ename": "TypeError",
     "evalue": "unhashable type: 'numpy.ndarray'",
     "output_type": "error",
     "traceback": [
      "\u001b[0;31m---------------------------------------------------------------------------\u001b[0m",
      "\u001b[0;31mTypeError\u001b[0m                                 Traceback (most recent call last)",
      "Cell \u001b[0;32mIn[5], line 1\u001b[0m\n\u001b[0;32m----> 1\u001b[0m ct\u001b[39m.\u001b[39;49mPOINTER((args,))\n",
      "\u001b[0;31mTypeError\u001b[0m: unhashable type: 'numpy.ndarray'"
     ]
    }
   ],
   "source": [
    "ct.POINTER((args,))"
   ]
  },
  {
   "cell_type": "code",
   "execution_count": 2,
   "metadata": {},
   "outputs": [],
   "source": [
    "import ctypes\n",
    "import numpy\n",
    "\n",
    "c_float_p = ctypes.POINTER(ctypes.c_float)\n",
    "data = numpy.array([[0.1, 0.1], [0.2, 0.2], [0.3, 0.3]])\n",
    "data = data.astype(numpy.float32)\n",
    "data_p = data.ctypes.data_as(c_float_p)"
   ]
  },
  {
   "cell_type": "code",
   "execution_count": 2,
   "metadata": {},
   "outputs": [
    {
     "name": "stdout",
     "output_type": "stream",
     "text": [
      "4.03 µs ± 40.3 ns per loop (mean ± std. dev. of 7 runs, 100,000 loops each)\n",
      "4.25 µs ± 15.6 ns per loop (mean ± std. dev. of 7 runs, 100,000 loops each)\n"
     ]
    }
   ],
   "source": [
    "\n",
    "%timeit lmdif1(myfunc2.address, x_init.copy(), neqs,3, udata=args)\n",
    "%timeit lmdif(myfunc.address, x_init, neqs, args=args)"
   ]
  },
  {
   "cell_type": "code",
   "execution_count": null,
   "metadata": {},
   "outputs": [],
   "source": [
    "from time import sleep\n",
    "%timeit sleep(0.1); sleep(0.2)\n",
    "# ... sleep(0.3)"
   ]
  },
  {
   "cell_type": "code",
   "execution_count": null,
   "metadata": {},
   "outputs": [],
   "source": [
    "import numba as nb\n",
    "import numpy as np\n",
    "\n",
    "z = np.zeros((10,), dtype=np.int32)\n",
    "\n",
    "print(z.size)\n",
    "\n",
    "@nb.njit\n",
    "def wot(a):\n",
    "    return np.int32(a.size)\n",
    "\n",
    "print(wot(z))\n",
    "%timeit wot(z)"
   ]
  },
  {
   "cell_type": "code",
   "execution_count": 1,
   "metadata": {},
   "outputs": [],
   "source": [
    "import ctypes as ct\n",
    "import numpy as np\n",
    "from numba import types, njit, cfunc, carray\n",
    "from minpack_numba import sig_minpack_func2\n",
    "\n",
    "cminpack = ct.CDLL(ct.util.find_library(\"cminpack\"))"
   ]
  },
  {
   "cell_type": "code",
   "execution_count": 2,
   "metadata": {},
   "outputs": [],
   "source": [
    "# int __cminpack_func__(lmdif1)(__cminpack_decl_fcn_mn__ void *p,\n",
    "# int m,\n",
    "# int n,\n",
    "# real *x,\n",
    "# \treal *fvec,\n",
    "# real tol,\n",
    "# int *iwa,\n",
    "# \treal *wa,\n",
    "# int lwa)\n",
    "\n",
    "lmdif69 = cminpack.lmdif1\n",
    "lmdif69.argtypes = [\n",
    "    ct.c_void_p,  # *p\n",
    "    ct.c_int,  # m\n",
    "    ct.c_int,  # n\n",
    "    ct.c_double,  # *x\n",
    "    ct.c_double,  # *fvec\n",
    "    ct.c_double,  # tol\n",
    "    ct.c_int,  # *iwa\n",
    "    ct.c_double,  # *wa\n",
    "    ct.c_int,  # lwa\n",
    "]\n",
    "\n",
    "# lmdif69.argtypes = [\n",
    "#     ct.c_void_p,\n",
    "#     ct.c_void_p,\n",
    "#     ct.c_void_p,\n",
    "#     ct.c_void_p,\n",
    "#     ct.c_void_p,\n",
    "#     ct.c_void_p,\n",
    "#     ct.c_void_p,\n",
    "#     ct.c_void_p,\n",
    "#     ct.c_void_p\n",
    "# ]\n",
    "lmdif69.restype = ct.c_int"
   ]
  },
  {
   "cell_type": "code",
   "execution_count": 3,
   "metadata": {},
   "outputs": [],
   "source": [
    "# @njit\n",
    "def wot(\n",
    "    func,\n",
    "    x0,\n",
    "    m,\n",
    "    n=None,\n",
    "    tol=1.49012e-8,\n",
    "    udata=None,\n",
    "):\n",
    "    tol = np.float64(tol)\n",
    "    # tol = np.array(tol, dtype=np.float64)\n",
    "\n",
    "    # m = np.array(m, dtype=np.int32)\n",
    "    # n = np.array(x0.size, dtype=np.int32)\n",
    "\n",
    "    m = np.int32(m)\n",
    "    if n is None:\n",
    "        n = np.int32(x0.size)\n",
    "    else:\n",
    "        n = np.int32(n)\n",
    "\n",
    "    fvec = np.zeros(m, dtype=np.float64)\n",
    "\n",
    "    info = np.zeros(1, dtype=np.int32)\n",
    "    iwa = np.zeros(n, dtype=np.int32)\n",
    "    # iwa[0] = -1\n",
    "    # lwa = np.int32((m * n + 5 * n + m) + 2)\n",
    "    lwa = np.array((m * n + 5 * n + m) + 2, dtype=np.int32)\n",
    "    wa = np.zeros(lwa.item(), dtype=np.float64)\n",
    "\n",
    "    if udata is None:\n",
    "        udata = np.zeros(1, dtype=np.float64)\n",
    "    else:\n",
    "        udata = np.asarray(udata)\n",
    "\n",
    "    # func(m, n, x0.ctypes.data, ct.POINTER(fvec.ctypes.data), 0)\n",
    "\n",
    "    lmdif69(\n",
    "        func,\n",
    "        m,\n",
    "        n,\n",
    "        x0.ctypes.data,  #\n",
    "        fvec.ctypes.data,  #\n",
    "        tol,\n",
    "        # info.ctypes.data,#\n",
    "        iwa.ctypes.data,  #\n",
    "        wa.ctypes.data,  #\n",
    "        lwa,\n",
    "        # udata.ctypes.data,#\n",
    "    )\n",
    "\n",
    "    # lmdif69(\n",
    "    #     func,\n",
    "    #     m.ctypes.data,\n",
    "    #     n.ctypes.data,\n",
    "    #     x0.ctypes.data,#\n",
    "    #     fvec.ctypes.data,#\n",
    "    #     tol.ctypes.data,\n",
    "    #     # info.ctypes.data,#\n",
    "    #     iwa.ctypes.data,#\n",
    "    #     wa.ctypes.data,#\n",
    "    #     lwa.ctypes.data,\n",
    "    #     # udata.ctypes.data,#\n",
    "    # )\n",
    "    return x0, fvec, (1 <= info <= 4)[0], info[0]"
   ]
  },
  {
   "cell_type": "code",
   "execution_count": 9,
   "metadata": {},
   "outputs": [],
   "source": [
    "sig = types.void(\n",
    "    types.int32,\n",
    "    types.int32,\n",
    "    types.CPointer(types.double),\n",
    "    types.CPointer(types.double),\n",
    "    types.int32,\n",
    "    # types.CPointer(types.double),\n",
    ")\n",
    "\n",
    "\n",
    "@cfunc(sig)\n",
    "def myfunc69(m, n, x, fvec, iflag):  # , udata):\n",
    "    # print(\"woo\")\n",
    "    x[0] = 1\n",
    "    fvec[0] = 1\n",
    "    print(\"woop\")\n",
    "    iflag = -1\n",
    "    # return\n",
    "    # fvec[0] = 1\n",
    "    # _fvec = carray(fvec, m)\n",
    "    # print(\"hello\")\n",
    "    # print(fvec)\n",
    "    # fvec[0] = x[0]**2 - 30.0*x[1]\n",
    "    # fvec[1] = x[1]**2 - 8.0*x[0]\n",
    "    # fvec[2] = x[2]**2  - 5.0*x[1]\n",
    "    # print(fvec)\n",
    "    # return iflag.ctypes.data\n",
    "\n",
    "\n",
    "x_init = np.array([10.0, 10.0, 10.0])  # initial conditions\n",
    "neqs = 3  # number of equations\n",
    "args = np.array([30.0, 8.0])"
   ]
  },
  {
   "cell_type": "code",
   "execution_count": 10,
   "metadata": {},
   "outputs": [
    {
     "data": {
      "text/plain": [
       "(array([10., 10., 10.]), array([0., 0., 0.]), False, 0)"
      ]
     },
     "execution_count": 10,
     "metadata": {},
     "output_type": "execute_result"
    }
   ],
   "source": [
    "wot(myfunc69.address, x_init.copy(), neqs, 3, udata=args)"
   ]
  },
  {
   "cell_type": "code",
   "execution_count": null,
   "metadata": {},
   "outputs": [],
   "source": [
    "# subroutine minpack_fcn_lmder(m, n, x, fvec, fjac, ldfjac, iflag, udata) bind(c)\n",
    "#     import :: c_int, c_double, c_ptr\n",
    "#     implicit none\n",
    "#     integer(c_int), value :: m\n",
    "#     integer(c_int), value :: n\n",
    "#     integer(c_int), value :: ldfjac\n",
    "#     integer(c_int), intent(inout) :: iflag\n",
    "#     real(c_double), intent(in) :: x(n)\n",
    "#     real(c_double), intent(inout) :: fvec(m)\n",
    "#     real(c_double), intent(inout) :: fjac(ldfjac, n)\n",
    "#     type(c_ptr), value :: udata\n",
    "# end subroutine minpack_fcn_lmder\n",
    "\n",
    "# subroutine minpack_lmder1(fcn, m, n, x, Fvec, Fjac, Ldfjac, Tol, Info, Ipvt, Wa, Lwa, &\n",
    "#         & udata) &\n",
    "#         & bind(c)\n",
    "#     procedure(minpack_fcn_lmder) :: fcn\n",
    "#     integer(c_int), value :: m\n",
    "#     integer(c_int), value :: n\n",
    "#     integer(c_int), value :: ldfjac\n",
    "#     integer(c_int), intent(out) :: info\n",
    "#     integer(c_int), value :: lwa\n",
    "#     integer(c_int), intent(out) :: ipvt(n)\n",
    "#     real(c_double), value :: tol\n",
    "#     real(c_double), intent(inout) :: x(n)\n",
    "#     real(c_double), intent(out) :: fvec(m)\n",
    "#     real(c_double), intent(out) :: fjac(ldfjac, n)\n",
    "#     real(c_double), intent(inout) :: wa(lwa)\n",
    "#     type(c_ptr), value :: udata\n",
    "\n",
    "#     call lmder1(wrap_fcn, m, n, x, Fvec, Fjac, Ldfjac, Tol, Info, Ipvt, Wa, Lwa)\n",
    "\n",
    "# contains\n",
    "#     subroutine wrap_fcn(m, n, x, fvec, fjac, ldfjac, iflag)\n",
    "#         integer, intent(in) :: m\n",
    "#         integer, intent(in) :: n\n",
    "#         integer, intent(in) :: ldfjac\n",
    "#         integer, intent(inout) :: iflag\n",
    "#         real(wp), intent(in) :: x(n)\n",
    "#         real(wp), intent(inout) :: fvec(m)\n",
    "#         real(wp), intent(inout) :: fjac(ldfjac, n)\n",
    "\n",
    "#         call fcn(m, n, x, fvec, fjac, ldfjac, iflag, udata)\n",
    "#     end subroutine wrap_fcn\n",
    "# end subroutine minpack_lmder1"
   ]
  },
  {
   "cell_type": "code",
   "execution_count": 1,
   "metadata": {},
   "outputs": [
    {
     "ename": "",
     "evalue": "",
     "output_type": "error",
     "traceback": [
      "\u001b[1;31mCannot execute code, session has been disposed. Please try restarting the Kernel."
     ]
    },
    {
     "ename": "",
     "evalue": "",
     "output_type": "error",
     "traceback": [
      "\u001b[1;31mThe Kernel crashed while executing code in the the current cell or a previous cell. Please review the code in the cell(s) to identify a possible cause of the failure. Click <a href='https://aka.ms/vscodeJupyterKernelCrash'>here</a> for more info. View Jupyter <a href='command:jupyter.viewOutput'>log</a> for further details."
     ]
    }
   ],
   "source": [
    "import ctypes as ct\n",
    "from numba import njit, types, cfunc\n",
    "import numpy as np\n",
    "\n",
    "minpack = ct.CDLL(ct.util.find_library(\"minpack\"))\n",
    "\n",
    "# subroutine minpack_lmder1(fcn, m, n, x, Fvec, Fjac, Ldfjac, Tol, Info, Ipvt, Wa, Lwa, &\n",
    "#         & udata) &\n",
    "#         & bind(c)\n",
    "#     procedure(minpack_fcn_lmder) :: fcn\n",
    "#     integer(c_int), value :: m\n",
    "#     integer(c_int), value :: n\n",
    "#     integer(c_int), value :: ldfjac\n",
    "#     integer(c_int), intent(out) :: info\n",
    "#     integer(c_int), value :: lwa\n",
    "#     integer(c_int), intent(out) :: ipvt(n)\n",
    "#     real(c_double), value :: tol\n",
    "#     real(c_double), intent(inout) :: x(n)\n",
    "#     real(c_double), intent(out) :: fvec(m)\n",
    "#     real(c_double), intent(out) :: fjac(ldfjac, n)\n",
    "#     real(c_double), intent(inout) :: wa(lwa)\n",
    "#     type(c_ptr), value :: udata\n",
    "\n",
    "#     call lmder1(wrap_fcn, m, n, x, Fvec, Fjac, Ldfjac, Tol, Info, Ipvt, Wa, Lwa)\n",
    "\n",
    "# contains\n",
    "#     subroutine wrap_fcn(m, n, x, fvec, fjac, ldfjac, iflag)\n",
    "#         integer, intent(in) :: m\n",
    "#         integer, intent(in) :: n\n",
    "#         integer, intent(in) :: ldfjac\n",
    "#         integer, intent(inout) :: iflag\n",
    "#         real(wp), intent(in) :: x(n)\n",
    "#         real(wp), intent(inout) :: fvec(m)\n",
    "#         real(wp), intent(inout) :: fjac(ldfjac, n)\n",
    "\n",
    "#         call fcn(m, n, x, fvec, fjac, ldfjac, iflag, udata)\n",
    "#     end subroutine wrap_fcn\n",
    "# end subroutine minpack_lmder1\n",
    "\n",
    "\n",
    "sig_minpack_fcn_lmder = types.void(\n",
    "    types.CPointer(types.int32),\n",
    "    types.CPointer(types.int32),\n",
    "    types.CPointer(types.int32),\n",
    "    types.CPointer(types.int32),\n",
    "    types.CPointer(types.float64),\n",
    "    types.CPointer(types.float64),\n",
    "    types.CPointer(types.float64),\n",
    "    types.CPointer(types.float64),\n",
    ")\n",
    "\n",
    "_lmder1 = minpack.minpack_lmder1\n",
    "_lmder1.argtypes = [\n",
    "    ct.c_void_p,\n",
    "    ct.c_int,\n",
    "    ct.c_int,\n",
    "    ct.c_int,\n",
    "    ct.c_void_p,\n",
    "    ct.c_int,\n",
    "    ct.c_void_p,\n",
    "    ct.c_double,\n",
    "    ct.c_void_p,\n",
    "    ct.c_void_p,\n",
    "    ct.c_void_p,\n",
    "    ct.c_void_p,\n",
    "    ct.c_void_p,\n",
    "]\n",
    "_lmder1.restype = None\n",
    "\n",
    "# subroutine minpack_fcn_lmder(m, n, x, fvec, fjac, ldfjac, iflag, udata) bind(c)\n",
    "#     import :: c_int, c_double, c_ptr\n",
    "#     implicit none\n",
    "#     integer(c_int), value :: m\n",
    "#     integer(c_int), value :: n\n",
    "#     integer(c_int), value :: ldfjac\n",
    "#     integer(c_int), intent(inout) :: iflag\n",
    "#     real(c_double), intent(in) :: x(n)\n",
    "#     real(c_double), intent(inout) :: fvec(m)\n",
    "#     real(c_double), intent(inout) :: fjac(ldfjac, n)\n",
    "#     type(c_ptr), value :: udata\n",
    "# end subroutine minpack_fcn_lmder\n",
    "\n",
    "sig_minpack_fcn_lmder = types.void(\n",
    "    types.CPointer(types.int32),\n",
    "    types.CPointer(types.int32),\n",
    "    types.CPointer(types.int32),\n",
    "    types.CPointer(types.int32),\n",
    "    types.CPointer(types.float64),\n",
    "    types.CPointer(types.float64),\n",
    "    types.CPointer(types.float64),\n",
    "    types.CPointer(types.float64),\n",
    ")\n",
    "\n",
    "#     procedure(minpack_fcn_lmder) :: fcn\n",
    "#     integer(c_int), value :: m\n",
    "#     integer(c_int), value :: n\n",
    "#     integer(c_int), value :: ldfjac\n",
    "#     integer(c_int), intent(out) :: info\n",
    "#     integer(c_int), value :: lwa\n",
    "#     integer(c_int), intent(out) :: ipvt(n)\n",
    "#     real(c_double), value :: tol\n",
    "#     real(c_double), intent(inout) :: x(n)\n",
    "#     real(c_double), intent(out) :: fvec(m)\n",
    "#     real(c_double), intent(out) :: fjac(ldfjac, n)\n",
    "#     real(c_double), intent(inout) :: wa(lwa)\n",
    "#     type(c_ptr), value :: udata\n",
    "\n",
    "\n",
    "@njit\n",
    "def lmder1(func, x0, m, ldfjac, tol=1.49012e-8, udata=None):\n",
    "    x = np.asarray(x0.copy(), dtype=np.float64)\n",
    "\n",
    "    m = np.int32(m)\n",
    "    n = np.int32(x.size)\n",
    "    ldfjac = np.int32(ldfjac)\n",
    "    info = np.zeros(1, dtype=np.int32)\n",
    "    lwa = np.int32(5 * n + m)\n",
    "    ipvt = np.zeros(n, dtype=np.int32)\n",
    "    tol = np.float64(tol)\n",
    "    fvec = np.zeros(m, dtype=np.float64)\n",
    "    # fjac = np.zeros((ldfjac, n), dtype=np.float64)\n",
    "    fjac = np.zeros((n, ldfjac), dtype=np.float64)\n",
    "    wa = np.zeros(lwa, dtype=np.float64)\n",
    "    udata = np.zeros(1, dtype=np.float64)\n",
    "\n",
    "    _lmder1(\n",
    "        func,\n",
    "        m,\n",
    "        n,\n",
    "        ldfjac,\n",
    "        info.ctypes.data,\n",
    "        lwa,\n",
    "        ipvt.ctypes.data,\n",
    "        tol,\n",
    "        x0.ctypes.data,\n",
    "        fvec.ctypes.data,\n",
    "        fjac.ctypes.data,\n",
    "        wa.ctypes.data,\n",
    "        udata.ctypes.data,\n",
    "    )\n",
    "\n",
    "    return x0, fvec, (1 <= info <= 4)[0], info[0]\n",
    "\n",
    "\n",
    "@cfunc(sig_minpack_fcn_lmder)\n",
    "def myfunc69(m, n, x, fvec, fjac, ldfjac, iflag, udata):\n",
    "    # fvec[0] = x[0] ** 2 - 30.0 * x[1]\n",
    "    # fvec[1] = x[1] ** 2 - 8.0 * x[0]\n",
    "    # fvec[2] = x[2] ** 2 - 5.0 * x[1]\n",
    "    # print(\"woop\")\n",
    "    # udata[0] += 1\n",
    "\n",
    "    # if udata[0] > 10:\n",
    "    #     iflag[0] = -1\n",
    "    print(\"hello\")\n",
    "    iflag[0] = -1\n",
    "\n",
    "\n",
    "x_init = np.array([10.0, 10.0])  # initial conditions\n",
    "neqs = 3  # number of equations\n",
    "args = np.array([30.0, 8.0])\n",
    "\n",
    "\n",
    "lmder1(myfunc69.address, x_init, 3, 3, udata=args)"
   ]
  },
  {
   "cell_type": "code",
   "execution_count": 4,
   "metadata": {},
   "outputs": [
    {
     "name": "stderr",
     "output_type": "stream",
     "text": [
      "/Users/chris/mambaforge/envs/mbipy310/lib/python3.10/site-packages/numba/core/typed_passes.py:334: NumbaPerformanceWarning: \u001b[1m\n",
      "The keyword argument 'parallel=True' was specified but no transformation for parallel execution was possible.\n",
      "\n",
      "To find out why, try turning on parallel diagnostics, see https://numba.readthedocs.io/en/stable/user/parallel.html#diagnostics for help.\n",
      "\u001b[1m\n",
      "File \"../../../../../var/folders/v7/vq2l7f812yd450mn3wwmrhtc0000gn/T/ipykernel_30847/2565436052.py\", line 17:\u001b[0m\n",
      "\u001b[1m<source missing, REPL/exec in use?>\u001b[0m\n",
      "\u001b[0m\n",
      "  warnings.warn(errors.NumbaPerformanceWarning(msg,\n"
     ]
    },
    {
     "name": "stdout",
     "output_type": "stream",
     "text": [
      "14.1 µs ± 113 ns per loop (mean ± std. dev. of 7 runs, 100,000 loops each)\n",
      "159 µs ± 1.16 µs per loop (mean ± std. dev. of 7 runs, 10,000 loops each)\n"
     ]
    }
   ],
   "source": [
    "import numpy as np\n",
    "import numba as nb\n",
    "import ctypes as ct\n",
    "\n",
    "import xraylib_np as xrl_np\n",
    "\n",
    "rng = np.random.default_rng(0)\n",
    "\n",
    "xrl_numba = ct.CDLL(ct.util.find_library(\"libxrl\"))\n",
    "\n",
    "ElementDensity = xrl_numba.ElementDensity\n",
    "ElementDensity.argtypes = [ct.c_int]\n",
    "ElementDensity.restype = ct.c_double\n",
    "\n",
    "x = rng.integers(1, 90, size=10000)\n",
    "\n",
    "@nb.njit(parallel=True)\n",
    "def ElementDensity2(Z):\n",
    "    output = np.zeros_like(Z, dtype=np.float64)\n",
    "    for i in range(Z.shape[0]):\n",
    "        output[i] = ElementDensity(Z[i])\n",
    "    return output\n",
    "\n",
    "ElementDensity2(x) - xrl_np.ElementDensity(x)\n",
    "\n",
    "%timeit ElementDensity2(x)\n",
    "%timeit xrl_np.ElementDensity(x)"
   ]
  },
  {
   "cell_type": "code",
   "execution_count": 46,
   "metadata": {},
   "outputs": [
    {
     "name": "stdout",
     "output_type": "stream",
     "text": [
      "83.7 ns ± 0.141 ns per loop (mean ± std. dev. of 7 runs, 10,000,000 loops each)\n"
     ]
    },
    {
     "ename": "KeyboardInterrupt",
     "evalue": "",
     "output_type": "error",
     "traceback": [
      "\u001b[0;31m---------------------------------------------------------------------------\u001b[0m",
      "\u001b[0;31mKeyboardInterrupt\u001b[0m                         Traceback (most recent call last)",
      "Cell \u001b[0;32mIn[46], line 46\u001b[0m\n\u001b[1;32m     44\u001b[0m AtomicLevelWidth_numba2(\u001b[39m26\u001b[39m, \u001b[39m1\u001b[39m)\u001b[39m#, xrl.AtomicLevelWidth(26, -1)\u001b[39;00m\n\u001b[1;32m     45\u001b[0m get_ipython()\u001b[39m.\u001b[39mrun_line_magic(\u001b[39m'\u001b[39m\u001b[39mtimeit\u001b[39m\u001b[39m'\u001b[39m, \u001b[39m'\u001b[39m\u001b[39mAtomicLevelWidth_numba(26, 1)\u001b[39m\u001b[39m'\u001b[39m)\n\u001b[0;32m---> 46\u001b[0m get_ipython()\u001b[39m.\u001b[39;49mrun_line_magic(\u001b[39m'\u001b[39;49m\u001b[39mtimeit\u001b[39;49m\u001b[39m'\u001b[39;49m, \u001b[39m'\u001b[39;49m\u001b[39mAtomicLevelWidth_numba2(26, 1)\u001b[39;49m\u001b[39m'\u001b[39;49m)\n\u001b[1;32m     47\u001b[0m get_ipython()\u001b[39m.\u001b[39mrun_line_magic(\u001b[39m'\u001b[39m\u001b[39mtimeit\u001b[39m\u001b[39m'\u001b[39m, \u001b[39m'\u001b[39m\u001b[39mxrl.AtomicLevelWidth(26, 1)\u001b[39m\u001b[39m'\u001b[39m)\n",
      "File \u001b[0;32m~/mambaforge/envs/mbipy310/lib/python3.10/site-packages/IPython/core/interactiveshell.py:2417\u001b[0m, in \u001b[0;36mInteractiveShell.run_line_magic\u001b[0;34m(self, magic_name, line, _stack_depth)\u001b[0m\n\u001b[1;32m   2415\u001b[0m     kwargs[\u001b[39m'\u001b[39m\u001b[39mlocal_ns\u001b[39m\u001b[39m'\u001b[39m] \u001b[39m=\u001b[39m \u001b[39mself\u001b[39m\u001b[39m.\u001b[39mget_local_scope(stack_depth)\n\u001b[1;32m   2416\u001b[0m \u001b[39mwith\u001b[39;00m \u001b[39mself\u001b[39m\u001b[39m.\u001b[39mbuiltin_trap:\n\u001b[0;32m-> 2417\u001b[0m     result \u001b[39m=\u001b[39m fn(\u001b[39m*\u001b[39;49margs, \u001b[39m*\u001b[39;49m\u001b[39m*\u001b[39;49mkwargs)\n\u001b[1;32m   2419\u001b[0m \u001b[39m# The code below prevents the output from being displayed\u001b[39;00m\n\u001b[1;32m   2420\u001b[0m \u001b[39m# when using magics with decodator @output_can_be_silenced\u001b[39;00m\n\u001b[1;32m   2421\u001b[0m \u001b[39m# when the last Python token in the expression is a ';'.\u001b[39;00m\n\u001b[1;32m   2422\u001b[0m \u001b[39mif\u001b[39;00m \u001b[39mgetattr\u001b[39m(fn, magic\u001b[39m.\u001b[39mMAGIC_OUTPUT_CAN_BE_SILENCED, \u001b[39mFalse\u001b[39;00m):\n",
      "File \u001b[0;32m~/mambaforge/envs/mbipy310/lib/python3.10/site-packages/IPython/core/magics/execution.py:1174\u001b[0m, in \u001b[0;36mExecutionMagics.timeit\u001b[0;34m(self, line, cell, local_ns)\u001b[0m\n\u001b[1;32m   1171\u001b[0m         \u001b[39mif\u001b[39;00m time_number \u001b[39m>\u001b[39m\u001b[39m=\u001b[39m \u001b[39m0.2\u001b[39m:\n\u001b[1;32m   1172\u001b[0m             \u001b[39mbreak\u001b[39;00m\n\u001b[0;32m-> 1174\u001b[0m all_runs \u001b[39m=\u001b[39m timer\u001b[39m.\u001b[39;49mrepeat(repeat, number)\n\u001b[1;32m   1175\u001b[0m best \u001b[39m=\u001b[39m \u001b[39mmin\u001b[39m(all_runs) \u001b[39m/\u001b[39m number\n\u001b[1;32m   1176\u001b[0m worst \u001b[39m=\u001b[39m \u001b[39mmax\u001b[39m(all_runs) \u001b[39m/\u001b[39m number\n",
      "File \u001b[0;32m~/mambaforge/envs/mbipy310/lib/python3.10/timeit.py:206\u001b[0m, in \u001b[0;36mTimer.repeat\u001b[0;34m(self, repeat, number)\u001b[0m\n\u001b[1;32m    204\u001b[0m r \u001b[39m=\u001b[39m []\n\u001b[1;32m    205\u001b[0m \u001b[39mfor\u001b[39;00m i \u001b[39min\u001b[39;00m \u001b[39mrange\u001b[39m(repeat):\n\u001b[0;32m--> 206\u001b[0m     t \u001b[39m=\u001b[39m \u001b[39mself\u001b[39;49m\u001b[39m.\u001b[39;49mtimeit(number)\n\u001b[1;32m    207\u001b[0m     r\u001b[39m.\u001b[39mappend(t)\n\u001b[1;32m    208\u001b[0m \u001b[39mreturn\u001b[39;00m r\n",
      "File \u001b[0;32m~/mambaforge/envs/mbipy310/lib/python3.10/site-packages/IPython/core/magics/execution.py:158\u001b[0m, in \u001b[0;36mTimer.timeit\u001b[0;34m(self, number)\u001b[0m\n\u001b[1;32m    156\u001b[0m gc\u001b[39m.\u001b[39mdisable()\n\u001b[1;32m    157\u001b[0m \u001b[39mtry\u001b[39;00m:\n\u001b[0;32m--> 158\u001b[0m     timing \u001b[39m=\u001b[39m \u001b[39mself\u001b[39;49m\u001b[39m.\u001b[39;49minner(it, \u001b[39mself\u001b[39;49m\u001b[39m.\u001b[39;49mtimer)\n\u001b[1;32m    159\u001b[0m \u001b[39mfinally\u001b[39;00m:\n\u001b[1;32m    160\u001b[0m     \u001b[39mif\u001b[39;00m gcold:\n",
      "File \u001b[0;32m<magic-timeit>:1\u001b[0m, in \u001b[0;36minner\u001b[0;34m(_it, _timer)\u001b[0m\n",
      "\u001b[0;31mKeyboardInterrupt\u001b[0m: "
     ]
    }
   ],
   "source": [
    "import ctypes as ct\n",
    "import numba as nb\n",
    "import xraylib as xrl\n",
    "import numpy as np\n",
    "\n",
    "AtomicLevelWidth = ct.CDLL(ct.util.find_library(\"libxrl\")).AtomicLevelWidth\n",
    "AtomicLevelWidth.argtypes = [ct.c_int, ct.c_int]#, ct.c_void_p]\n",
    "AtomicLevelWidth.restype = ct.c_double\n",
    "\n",
    "AtomicLevelWidth2 = ct.PyDLL(ct.util.find_library(\"libxrl\")).AtomicLevelWidth\n",
    "AtomicLevelWidth2.argtypes = [ct.c_int, ct.c_int, ct.c_void_p]\n",
    "AtomicLevelWidth2.restype = ct.c_double\n",
    "\n",
    "\n",
    "\n",
    "# double Refractive_Index_Re(const char compound[], double E, double density, xrl_error **error)\n",
    "Refractive_Index_Re = ct.CDLL(ct.util.find_library(\"libxrl\")).Refractive_Index_Re\n",
    "Refractive_Index_Re.argtypes = [ct.c_char_p, ct.c_double, ct.c_double]\n",
    "\n",
    "\n",
    "@nb.njit(\"float64(int32, int64)\")#(nogil=True)\n",
    "# @nb.njit(\"float64(int32, int32)\")#(nogil=True)\n",
    "def AtomicLevelWidth_numba(Z, shell):\n",
    "    # error = np.array([0], dtype=np.int32)\n",
    "    result = AtomicLevelWidth(Z, shell)#, 0)\n",
    "    if result:\n",
    "        return result\n",
    "    raise ValueError(\"Error in AtomicLevelWidth\")\n",
    "    \n",
    "    # if error[0]:\n",
    "    #     raise ValueError(\"Error in AtomicLevelWidth\")\n",
    "    # return result\n",
    "\n",
    "@nb.njit\n",
    "def AtomicLevelWidth_numba2(Z, shell):\n",
    "    error = np.array([0], dtype=np.int32)\n",
    "    result = AtomicLevelWidth2(Z, shell, error.ctypes.data)\n",
    "    if error[0]:\n",
    "        raise ValueError(\"Error in AtomicLevelWidth\")\n",
    "    return result\n",
    "\n",
    "\n",
    "AtomicLevelWidth_numba(26, 1)#, xrl.AtomicLevelWidth(26, -1)\n",
    "AtomicLevelWidth_numba2(26, 1)#, xrl.AtomicLevelWidth(26, -1)\n",
    "%timeit AtomicLevelWidth_numba(26, 1)\n",
    "%timeit AtomicLevelWidth_numba2(26, 1)\n",
    "%timeit xrl.AtomicLevelWidth(26, 1)"
   ]
  },
  {
   "cell_type": "code",
   "execution_count": 30,
   "metadata": {},
   "outputs": [
    {
     "ename": "AttributeError",
     "evalue": "dlsym(0x9fc4d980, KA_LINE): symbol not found",
     "output_type": "error",
     "traceback": [
      "\u001b[0;31m---------------------------------------------------------------------------\u001b[0m",
      "\u001b[0;31mAttributeError\u001b[0m                            Traceback (most recent call last)",
      "Cell \u001b[0;32mIn[30], line 1\u001b[0m\n\u001b[0;32m----> 1\u001b[0m ct\u001b[39m.\u001b[39;49mCDLL(ct\u001b[39m.\u001b[39;49mutil\u001b[39m.\u001b[39;49mfind_library(\u001b[39m\"\u001b[39;49m\u001b[39mlibxrl\u001b[39;49m\u001b[39m\"\u001b[39;49m))\u001b[39m.\u001b[39;49mKA_LINE\n",
      "File \u001b[0;32m~/mambaforge/envs/mbipy310/lib/python3.10/ctypes/__init__.py:387\u001b[0m, in \u001b[0;36mCDLL.__getattr__\u001b[0;34m(self, name)\u001b[0m\n\u001b[1;32m    385\u001b[0m \u001b[39mif\u001b[39;00m name\u001b[39m.\u001b[39mstartswith(\u001b[39m'\u001b[39m\u001b[39m__\u001b[39m\u001b[39m'\u001b[39m) \u001b[39mand\u001b[39;00m name\u001b[39m.\u001b[39mendswith(\u001b[39m'\u001b[39m\u001b[39m__\u001b[39m\u001b[39m'\u001b[39m):\n\u001b[1;32m    386\u001b[0m     \u001b[39mraise\u001b[39;00m \u001b[39mAttributeError\u001b[39;00m(name)\n\u001b[0;32m--> 387\u001b[0m func \u001b[39m=\u001b[39m \u001b[39mself\u001b[39;49m\u001b[39m.\u001b[39;49m\u001b[39m__getitem__\u001b[39;49m(name)\n\u001b[1;32m    388\u001b[0m \u001b[39msetattr\u001b[39m(\u001b[39mself\u001b[39m, name, func)\n\u001b[1;32m    389\u001b[0m \u001b[39mreturn\u001b[39;00m func\n",
      "File \u001b[0;32m~/mambaforge/envs/mbipy310/lib/python3.10/ctypes/__init__.py:392\u001b[0m, in \u001b[0;36mCDLL.__getitem__\u001b[0;34m(self, name_or_ordinal)\u001b[0m\n\u001b[1;32m    391\u001b[0m \u001b[39mdef\u001b[39;00m \u001b[39m__getitem__\u001b[39m(\u001b[39mself\u001b[39m, name_or_ordinal):\n\u001b[0;32m--> 392\u001b[0m     func \u001b[39m=\u001b[39m \u001b[39mself\u001b[39;49m\u001b[39m.\u001b[39;49m_FuncPtr((name_or_ordinal, \u001b[39mself\u001b[39;49m))\n\u001b[1;32m    393\u001b[0m     \u001b[39mif\u001b[39;00m \u001b[39mnot\u001b[39;00m \u001b[39misinstance\u001b[39m(name_or_ordinal, \u001b[39mint\u001b[39m):\n\u001b[1;32m    394\u001b[0m         func\u001b[39m.\u001b[39m\u001b[39m__name__\u001b[39m \u001b[39m=\u001b[39m name_or_ordinal\n",
      "\u001b[0;31mAttributeError\u001b[0m: dlsym(0x9fc4d980, KA_LINE): symbol not found"
     ]
    }
   ],
   "source": [
    "ct.CDLL(ct.util.find_library(\"libxrl\")).KA_LINE"
   ]
  },
  {
   "cell_type": "code",
   "execution_count": 107,
   "metadata": {},
   "outputs": [
    {
     "data": {
      "text/plain": [
       "(<CDLL '/usr/local/lib/libxrl.dylib', handle 9dc0f220 at 0x2a4c66ef0>,\n",
       " <PyDLL '/usr/local/lib/libxrl.dylib', handle 9dc0f220 at 0x2a4c66680>)"
      ]
     },
     "execution_count": 107,
     "metadata": {},
     "output_type": "execute_result"
    }
   ],
   "source": [
    "import ctypes as ct\n",
    "\n",
    "ct.CDLL(ct.util.find_library(\"libxrl\")), ct.PyDLL(\n",
    "    ct.util.find_library(\"libxrl\")\n",
    ")"
   ]
  },
  {
   "cell_type": "code",
   "execution_count": 108,
   "metadata": {},
   "outputs": [
    {
     "data": {
      "text/plain": [
       "<_FuncPtr object at 0x2a486b280>"
      ]
     },
     "execution_count": 108,
     "metadata": {},
     "output_type": "execute_result"
    }
   ],
   "source": [
    "ct.PyDLL(ct.util.find_library(\"libxrl\")).AtomicLevelWidth"
   ]
  },
  {
   "cell_type": "code",
   "execution_count": 5,
   "metadata": {},
   "outputs": [
    {
     "data": {
      "text/plain": [
       "array([[ 1.52934002e-03,  2.77989059e-03,  9.78829835e-03, ...,\n",
       "         6.31206031e-03,  6.39407431e-03,  1.90891785e-02],\n",
       "       [ 2.46380731e-02,  4.03640805e-02,  1.01206382e-01, ...,\n",
       "         7.55110875e-02,  7.61857992e-02,  1.47577219e-01],\n",
       "       [ 1.00658057e-01,  1.53643271e-01,  3.03273460e-01, ...,\n",
       "         2.52618295e-01,  2.54232091e-01,  3.18430149e-01],\n",
       "       ...,\n",
       "       [-8.03213797e+01, -7.45811509e+01, -6.29330144e+01, ...,\n",
       "        -6.61891943e+01, -6.60593477e+01, -5.43115985e+01],\n",
       "       [-8.83805839e+01, -7.45453216e+01, -6.32232980e+01, ...,\n",
       "        -6.69343498e+01, -6.68026736e+01, -5.38362504e+01],\n",
       "       [-9.55728177e+01, -7.34366952e+01, -6.24246593e+01, ...,\n",
       "        -6.67506443e+01, -6.66264278e+01, -5.39725643e+01]])"
      ]
     },
     "execution_count": 5,
     "metadata": {},
     "output_type": "execute_result"
    }
   ],
   "source": [
    "import ctypes as ct\n",
    "\n",
    "Fi = ct.CDLL(ct.util.find_library(\"libxrl\")).Fi\n",
    "import xraylib as xrl\n",
    "import xraylib_np as xrl_np\n",
    "import numpy as np\n",
    "import numba as nb\n",
    "\n",
    "rng = np.random.default_rng()\n",
    "Fi.argtypes = [ct.c_int, ct.c_double]\n",
    "Fi.restype = ct.c_double\n",
    "\n",
    "\n",
    "# float64[:, :](int64[:], float64[:], optional(float64[:, :]))\",\n",
    "@nb.njit(parallel=True, nogil=True)\n",
    "def Fi69(x, y, out=None):\n",
    "    assert x.ndim == 1\n",
    "    assert y.ndim == 1\n",
    "    # assert x.dtype == np.int64\n",
    "    # assert y.dtype == \"np.float64\"\n",
    "\n",
    "    null = np.array([1], dtype=np.int32)\n",
    "\n",
    "    x_size = x.size\n",
    "    y_size = y.size\n",
    "    if out is None:\n",
    "        output = np.zeros((x.size, y.size), dtype=y.dtype)\n",
    "    else:\n",
    "        assert out.shape == (x.size, y.size)\n",
    "        output = out\n",
    "\n",
    "    # for ij in nb.prange(x_size*y_size):\n",
    "    #     j = ij % y_size\n",
    "    #     i = ij // y_size\n",
    "\n",
    "    for i in range(x.size):\n",
    "        for j in range(y.size):\n",
    "            output[i, j] = Fi(x[i], y[j])\n",
    "    return output\n",
    "    # for i in range(x.size):\n",
    "    #     for j in range(y.size):\n",
    "    #         output[i, j] = Fi(x[i], y[j])\n",
    "    # return output\n",
    "\n",
    "    # return Fi(x.ctypes.data, y.ctypes.data)\n",
    "    # return Fi(x, y)\n",
    "\n",
    "\n",
    "x = np.arange(1, 100, dtype=np.int64)\n",
    "y = rng.random(101).astype(np.float64)\n",
    "\n",
    "# Fi2(1, 2.), xrl.Fi(1, 2.)\n",
    "# %timeit Fi2(1, 2.)\n",
    "# %timeit xrl.Fi(1, 2.)\n",
    "# nb.numba.NULL\n",
    "Fi69(x, y)"
   ]
  },
  {
   "cell_type": "code",
   "execution_count": 6,
   "metadata": {},
   "outputs": [
    {
     "name": "stdout",
     "output_type": "stream",
     "text": [
      "371 µs ± 14 µs per loop (mean ± std. dev. of 7 runs, 1,000 loops each)\n",
      "275 µs ± 5.95 µs per loop (mean ± std. dev. of 7 runs, 1,000 loops each)\n",
      "171 µs ± 2.65 µs per loop (mean ± std. dev. of 7 runs, 10,000 loops each)\n"
     ]
    }
   ],
   "source": [
    "assert np.allclose(Fi69(x, y), xrl_np.Fi(x.astype(np.int64), y))\n",
    "assert np.allclose(Fi69(x, y, np.zeros((x.size, y.size))), xrl_np.Fi(x.astype(np.int64), y))\n",
    "\n",
    "%timeit Fi69(x, y)\n",
    "%timeit Fi69(x, y, np.zeros((x.size, y.size)))\n",
    "%timeit xrl_np.Fi(x, y)\n"
   ]
  },
  {
   "cell_type": "code",
   "execution_count": 98,
   "metadata": {},
   "outputs": [
    {
     "name": "stdout",
     "output_type": "stream",
     "text": [
      "1.77 µs ± 7.57 ns per loop (mean ± std. dev. of 7 runs, 1,000,000 loops each)\n",
      "1.78 µs ± 1.88 ns per loop (mean ± std. dev. of 7 runs, 1,000,000 loops each)\n"
     ]
    }
   ],
   "source": [
    "import numba as nb\n",
    "import numpy as np\n",
    "\n",
    "@nb.njit\n",
    "def wot(a, b):\n",
    "    return np.zeros((a, b), dtype=np.float64)\n",
    "\n",
    "wot(100, 200)\n",
    "%timeit wot(100, 200)\n",
    "%timeit np.zeros((100, 200), dtype=np.float64)"
   ]
  },
  {
   "cell_type": "code",
   "execution_count": 86,
   "metadata": {},
   "outputs": [
    {
     "name": "stdout",
     "output_type": "stream",
     "text": [
      "1.21 µs ± 1.15 ns per loop (mean ± std. dev. of 7 runs, 1,000,000 loops each)\n"
     ]
    }
   ],
   "source": [
    "%timeit np.zeros((100, 100), dtype=np.float64)"
   ]
  },
  {
   "cell_type": "code",
   "execution_count": 7,
   "metadata": {},
   "outputs": [
    {
     "data": {
      "text/plain": [
       "((array([20.30701395, 12.74582724,  7.98305307]),\n",
       "  array([-1.44607577e-06,  3.56487760e-07,  5.20454009e-08]),\n",
       "  array([[ 42.74180401,  -0.22202828,  -0.37354778],\n",
       "         [ 30.81154718, -25.0094584 ,  -0.67781267],\n",
       "         [-38.4948964 ,   9.37229707, -11.99759208]]),\n",
       "  array([2], dtype=int32),\n",
       "  array([3, 2, 1], dtype=int32)),\n",
       " (array([20.30701399, 12.74582723,  7.98305306]),\n",
       "  array([0., 0., 0.]),\n",
       "  True,\n",
       "  2))"
      ]
     },
     "execution_count": 7,
     "metadata": {},
     "output_type": "execute_result"
    }
   ],
   "source": [
    "import ctypes as ct\n",
    "import numpy as np\n",
    "import numba as nb\n",
    "from numba import njit, types, cfunc\n",
    "from minpack_numba.minpack_numba import (\n",
    "    _address_as_void_pointer,\n",
    "    lmdif1,\n",
    "    sig_minpack_func2,\n",
    ")\n",
    "\n",
    "path = \"/Users/chris/Documents/PhD/minpack_numba/minpack/libminpack_numba.so\"\n",
    "\n",
    "minpack_numba = ct.CDLL(path)\n",
    "_lmder1 = minpack_numba.lmder1_numba\n",
    "\n",
    "\n",
    "_lmder1.restype = None\n",
    "\n",
    "sig = types.void(\n",
    "    types.int32,\n",
    "    types.int32,\n",
    "    types.CPointer(types.double),\n",
    "    types.CPointer(types.double),\n",
    "    types.CPointer(types.double),\n",
    "    types.int32,\n",
    "    types.CPointer(types.int32),\n",
    "    types.CPointer(types.double),\n",
    ")\n",
    "\n",
    "\n",
    "@cfunc(sig)\n",
    "def func(m, n, x, fvec, fjac, ldfjac, iflag, udata):\n",
    "    fjac = nb.farray(fjac, (ldfjac, n), dtype=np.float64)\n",
    "    if iflag[0] == 1:\n",
    "        fvec[0] = x[0] ** 2 - 30.0 * x[1] - udata[0]\n",
    "        fvec[1] = x[1] ** 2 - 8.0 * x[0]\n",
    "        fvec[2] = x[2] ** 2 - 5.0 * x[1]\n",
    "    if iflag[0] == 2:\n",
    "        fjac[0, 0] = 2.0 * x[0]\n",
    "        fjac[0, 1] = -30.0\n",
    "        fjac[1, 0] = -8.0\n",
    "        fjac[1, 1] = 2.0 * x[1]\n",
    "        fjac[2, 1] = -5.0\n",
    "        fjac[2, 2] = 2.0 * x[2]\n",
    "        # TODO fjac\n",
    "        # print(\"bonjour\")\n",
    "\n",
    "    nb.carray(x, n, dtype=np.float64)\n",
    "    nb.carray(udata, ldfjac, dtype=np.float64)\n",
    "\n",
    "\n",
    "@cfunc(sig_minpack_func2)\n",
    "def func2(m, n, x, fvec, iflag, udata):\n",
    "    fvec[0] = x[0] ** 2 - 30.0 * x[1] - udata[0]\n",
    "    fvec[1] = x[1] ** 2 - 8.0 * x[0]\n",
    "    fvec[2] = x[2] ** 2 - 5.0 * x[1]\n",
    "\n",
    "\n",
    "_lmder1.argtypes = [\n",
    "    ct.c_void_p,  # fcn\n",
    "    ct.c_int,  # m\n",
    "    ct.c_int,  # n\n",
    "    ct.c_void_p,  # x\n",
    "    ct.c_void_p,  # fvec\n",
    "    ct.c_void_p,  # fjac\n",
    "    ct.c_int,  # ldfjac\n",
    "    ct.c_double,  # tol\n",
    "    ct.c_int,  # info\n",
    "    ct.c_int,  # ipvt\n",
    "    ct.c_void_p,  # wa\n",
    "    ct.c_int,  # lwa\n",
    "    ct.c_void_p,  # udata\n",
    "]\n",
    "\n",
    "\n",
    "@njit\n",
    "def wot(fcn, udata):\n",
    "    n = np.int32(3)\n",
    "    m = np.int32(3)\n",
    "    ldfjac = np.int32(3)\n",
    "    tol = np.float64(1.49012e-8)\n",
    "    x = 100.0 * np.ones(n, dtype=np.float64)  # * 10.0\n",
    "    fvec = np.zeros(m, dtype=np.float64)\n",
    "    fjac = np.zeros((ldfjac, n), dtype=np.float64)\n",
    "    # lwa = np.int32(m * (n + 1) + 2 * n)\n",
    "    ipvt = np.zeros(n, dtype=np.int32)\n",
    "    lwa = np.int32(5 * n + m)\n",
    "    wa = np.zeros(lwa, dtype=np.float64)\n",
    "    info = np.zeros(1, dtype=np.int32)\n",
    "    # udata = np.zeros(100, dtype=np.float64)\n",
    "    _lmder1(\n",
    "        fcn,\n",
    "        m,\n",
    "        n,\n",
    "        _address_as_void_pointer(x.ctypes.data),\n",
    "        _address_as_void_pointer(fvec.ctypes.data),\n",
    "        _address_as_void_pointer(fjac.ctypes.data),\n",
    "        ldfjac,\n",
    "        tol,\n",
    "        info.ctypes.data,\n",
    "        ipvt.ctypes.data,\n",
    "        wa.ctypes.data,\n",
    "        lwa,\n",
    "        _address_as_void_pointer(udata.ctypes.data),\n",
    "    )\n",
    "    # return info\n",
    "    return x, fvec, fjac, info, ipvt\n",
    "\n",
    "\n",
    "udata = np.array([30.0, 8.0])\n",
    "\n",
    "(a := wot(func.address, udata)), lmdif1(\n",
    "    func2.address, 10.0 * np.ones(3, dtype=np.float64), 3, 3, udata=udata\n",
    ")"
   ]
  },
  {
   "cell_type": "code",
   "execution_count": null,
   "metadata": {},
   "outputs": [
    {
     "ename": "",
     "evalue": "",
     "output_type": "error",
     "traceback": [
      "\u001b[1;31mCannot execute code, session has been disposed. Please try restarting the Kernel."
     ]
    },
    {
     "ename": "",
     "evalue": "",
     "output_type": "error",
     "traceback": [
      "\u001b[1;31mThe Kernel crashed while executing code in the the current cell or a previous cell. Please review the code in the cell(s) to identify a possible cause of the failure. Click <a href='https://aka.ms/vscodeJupyterKernelCrash'>here</a> for more info. View Jupyter <a href='command:jupyter.viewOutput'>log</a> for further details."
     ]
    }
   ],
   "source": [
    "wot(func.address, udata)"
   ]
  },
  {
   "cell_type": "code",
   "execution_count": null,
   "metadata": {},
   "outputs": [
    {
     "ename": "",
     "evalue": "",
     "output_type": "error",
     "traceback": [
      "\u001b[1;31mCannot execute code, session has been disposed. Please try restarting the Kernel."
     ]
    },
    {
     "ename": "",
     "evalue": "",
     "output_type": "error",
     "traceback": [
      "\u001b[1;31mThe Kernel crashed while executing code in the the current cell or a previous cell. Please review the code in the cell(s) to identify a possible cause of the failure. Click <a href='https://aka.ms/vscodeJupyterKernelCrash'>here</a> for more info. View Jupyter <a href='command:jupyter.viewOutput'>log</a> for further details."
     ]
    }
   ],
   "source": [
    "%timeit wot(func.address, udata)\n",
    "%timeit lmdif1(func2.address, np.ones(3, dtype=np.float64), 3, 3, udata=udata)"
   ]
  },
  {
   "cell_type": "code",
   "execution_count": 27,
   "metadata": {},
   "outputs": [
    {
     "name": "stdout",
     "output_type": "stream",
     "text": [
      "/usr/local/lib/libminpack.dylib\n"
     ]
    },
    {
     "ename": "TypingError",
     "evalue": "Failed in nopython mode pipeline (step: nopython frontend)\n\u001b[1m\u001b[1m\u001b[1mNo implementation of function ExternalFunctionPointer((int32, int32, int32, int32, int32, int32, int32, float64, int32, int32, int32, int32) -> none) found for signature:\n \n >>> ExternalFunctionPointer(int64, int32, int32, uint64, uint64, uint64, int32, float64, uint64, uint64, uint64, int32, uint64)\n \nThere are 2 candidate implementations:\n\u001b[1m  - Of which 2 did not match due to:\n  Type Restricted Function in function 'unknown': File: unknown: Line unknown.\n    With argument(s): '(int64, int32, int32, uint64, uint64, uint64, int32, float64, uint64, uint64, uint64, int32, uint64)':\u001b[0m\n\u001b[1m   No match for registered cases:\n    * (int32, int32, int32, int32, int32, int32, int32, float64, int32, int32, int32, int32) -> none\u001b[0m\n\u001b[0m\n\u001b[0m\u001b[1mDuring: resolving callee type: ExternalFunctionPointer((int32, int32, int32, int32, int32, int32, int32, float64, int32, int32, int32, int32) -> none)\u001b[0m\n\u001b[0m\u001b[1mDuring: typing of call at /var/folders/v7/vq2l7f812yd450mn3wwmrhtc0000gn/T/ipykernel_39545/354552093.py (79)\n\u001b[0m\n\u001b[1m\nFile \"../../../../../var/folders/v7/vq2l7f812yd450mn3wwmrhtc0000gn/T/ipykernel_39545/354552093.py\", line 79:\u001b[0m\n\u001b[1m<source missing, REPL/exec in use?>\u001b[0m\n",
     "output_type": "error",
     "traceback": [
      "\u001b[0;31m---------------------------------------------------------------------------\u001b[0m",
      "\u001b[0;31mTypingError\u001b[0m                               Traceback (most recent call last)",
      "Cell \u001b[0;32mIn[27], line 101\u001b[0m\n\u001b[1;32m     79\u001b[0m     _lmder1(\n\u001b[1;32m     80\u001b[0m         fcn,\n\u001b[1;32m     81\u001b[0m         m,\n\u001b[0;32m   (...)\u001b[0m\n\u001b[1;32m     96\u001b[0m         \u001b[39m# _address_as_void_pointer(udata.ctypes.data)\u001b[39;00m\n\u001b[1;32m     97\u001b[0m     )\n\u001b[1;32m     98\u001b[0m     \u001b[39mreturn\u001b[39;00m x0, fvec, fjac, (\u001b[39m1\u001b[39m \u001b[39m<\u001b[39m\u001b[39m=\u001b[39m info \u001b[39m<\u001b[39m\u001b[39m=\u001b[39m \u001b[39m4\u001b[39m)[\u001b[39m0\u001b[39m], info[\u001b[39m0\u001b[39m]\n\u001b[0;32m--> 101\u001b[0m lmder1(func\u001b[39m.\u001b[39;49maddress, np\u001b[39m.\u001b[39;49mones(\u001b[39m3\u001b[39;49m) \u001b[39m*\u001b[39;49m \u001b[39m10\u001b[39;49m, \u001b[39m3\u001b[39;49m, \u001b[39m3\u001b[39;49m, \u001b[39m3\u001b[39;49m) \n",
      "File \u001b[0;32m~/mambaforge/envs/mbipy310/lib/python3.10/site-packages/numba/core/dispatcher.py:468\u001b[0m, in \u001b[0;36m_DispatcherBase._compile_for_args\u001b[0;34m(self, *args, **kws)\u001b[0m\n\u001b[1;32m    464\u001b[0m         msg \u001b[39m=\u001b[39m (\u001b[39mf\u001b[39m\u001b[39m\"\u001b[39m\u001b[39m{\u001b[39;00m\u001b[39mstr\u001b[39m(e)\u001b[39m.\u001b[39mrstrip()\u001b[39m}\u001b[39;00m\u001b[39m \u001b[39m\u001b[39m\\n\u001b[39;00m\u001b[39m\\n\u001b[39;00m\u001b[39mThis error may have been caused \u001b[39m\u001b[39m\"\u001b[39m\n\u001b[1;32m    465\u001b[0m                \u001b[39mf\u001b[39m\u001b[39m\"\u001b[39m\u001b[39mby the following argument(s):\u001b[39m\u001b[39m\\n\u001b[39;00m\u001b[39m{\u001b[39;00margs_str\u001b[39m}\u001b[39;00m\u001b[39m\\n\u001b[39;00m\u001b[39m\"\u001b[39m)\n\u001b[1;32m    466\u001b[0m         e\u001b[39m.\u001b[39mpatch_message(msg)\n\u001b[0;32m--> 468\u001b[0m     error_rewrite(e, \u001b[39m'\u001b[39;49m\u001b[39mtyping\u001b[39;49m\u001b[39m'\u001b[39;49m)\n\u001b[1;32m    469\u001b[0m \u001b[39mexcept\u001b[39;00m errors\u001b[39m.\u001b[39mUnsupportedError \u001b[39mas\u001b[39;00m e:\n\u001b[1;32m    470\u001b[0m     \u001b[39m# Something unsupported is present in the user code, add help info\u001b[39;00m\n\u001b[1;32m    471\u001b[0m     error_rewrite(e, \u001b[39m'\u001b[39m\u001b[39munsupported_error\u001b[39m\u001b[39m'\u001b[39m)\n",
      "File \u001b[0;32m~/mambaforge/envs/mbipy310/lib/python3.10/site-packages/numba/core/dispatcher.py:409\u001b[0m, in \u001b[0;36m_DispatcherBase._compile_for_args.<locals>.error_rewrite\u001b[0;34m(e, issue_type)\u001b[0m\n\u001b[1;32m    407\u001b[0m     \u001b[39mraise\u001b[39;00m e\n\u001b[1;32m    408\u001b[0m \u001b[39melse\u001b[39;00m:\n\u001b[0;32m--> 409\u001b[0m     \u001b[39mraise\u001b[39;00m e\u001b[39m.\u001b[39mwith_traceback(\u001b[39mNone\u001b[39;00m)\n",
      "\u001b[0;31mTypingError\u001b[0m: Failed in nopython mode pipeline (step: nopython frontend)\n\u001b[1m\u001b[1m\u001b[1mNo implementation of function ExternalFunctionPointer((int32, int32, int32, int32, int32, int32, int32, float64, int32, int32, int32, int32) -> none) found for signature:\n \n >>> ExternalFunctionPointer(int64, int32, int32, uint64, uint64, uint64, int32, float64, uint64, uint64, uint64, int32, uint64)\n \nThere are 2 candidate implementations:\n\u001b[1m  - Of which 2 did not match due to:\n  Type Restricted Function in function 'unknown': File: unknown: Line unknown.\n    With argument(s): '(int64, int32, int32, uint64, uint64, uint64, int32, float64, uint64, uint64, uint64, int32, uint64)':\u001b[0m\n\u001b[1m   No match for registered cases:\n    * (int32, int32, int32, int32, int32, int32, int32, float64, int32, int32, int32, int32) -> none\u001b[0m\n\u001b[0m\n\u001b[0m\u001b[1mDuring: resolving callee type: ExternalFunctionPointer((int32, int32, int32, int32, int32, int32, int32, float64, int32, int32, int32, int32) -> none)\u001b[0m\n\u001b[0m\u001b[1mDuring: typing of call at /var/folders/v7/vq2l7f812yd450mn3wwmrhtc0000gn/T/ipykernel_39545/354552093.py (79)\n\u001b[0m\n\u001b[1m\nFile \"../../../../../var/folders/v7/vq2l7f812yd450mn3wwmrhtc0000gn/T/ipykernel_39545/354552093.py\", line 79:\u001b[0m\n\u001b[1m<source missing, REPL/exec in use?>\u001b[0m\n"
     ]
    }
   ],
   "source": [
    "import ctypes as ct\n",
    "import numpy as np\n",
    "import numba as nb\n",
    "from numba import njit, types, cfunc\n",
    "from minpack_numba.minpack_numba import _address_as_void_pointer\n",
    "\n",
    "minpack_path = ct.util.find_library(\"minpack\")\n",
    "print(minpack_path)\n",
    "minpack = ct.CDLL(minpack_path)\n",
    "\n",
    "sig = types.void(\n",
    "    types.int32,\n",
    "    types.int32,\n",
    "    types.CPointer(types.double),\n",
    "    types.CPointer(types.double),\n",
    "    types.CPointer(types.double),\n",
    "    types.CPointer(types.int32),\n",
    "    types.CPointer(types.int32),\n",
    "    types.CPointer(types.double),\n",
    ")\n",
    "\n",
    "\n",
    "@cfunc(sig)\n",
    "def func(m, n, x, fvec, fjac, ldfjac, iflag, udata):\n",
    "    print(\"hello\")\n",
    "    # iflag[0] = -1\n",
    "\n",
    "\n",
    "_lmder1 = minpack.minpack_lmder1\n",
    "_lmder1.argtypes = [\n",
    "    ct.c_int,  # fcn\n",
    "    ct.c_int,  # m\n",
    "    ct.c_int,  # n\n",
    "    ct.c_int,  # x\n",
    "    ct.c_int,  # fvec\n",
    "    ct.c_int,  # fjac\n",
    "    ct.c_int,  # ldfjac\n",
    "    ct.c_double,  # tol\n",
    "    ct.c_int,  # info\n",
    "    ct.c_int,  # wa\n",
    "    ct.c_int,  # lwa\n",
    "    ct.c_int,  # udata\n",
    "]\n",
    "_lmder1.restype = None\n",
    "\n",
    "\n",
    "@njit\n",
    "def lmder1(fcn, x0, m, n=None, ldfjac=None, tol=1.49012e-8, udata=None):\n",
    "    tol = np.float64(tol)\n",
    "\n",
    "    x = x0.copy()\n",
    "\n",
    "    m = np.int32(m)\n",
    "    if n is None:\n",
    "        n = np.int32(x.size)\n",
    "    else:\n",
    "        n = np.int32(n)\n",
    "\n",
    "    if ldfjac is None:\n",
    "        ldfjac = np.int32(m)\n",
    "    else:\n",
    "        ldfjac = np.int32(ldfjac)\n",
    "\n",
    "    fvec = np.zeros(m, dtype=np.float64)\n",
    "    fjac = np.zeros((ldfjac, n), dtype=np.float64)\n",
    "\n",
    "    info = np.zeros(1, dtype=np.int32)\n",
    "    iwa = np.zeros(n, dtype=np.int32)\n",
    "    # (m * n + 5 * n + m)+2\n",
    "    lwa = np.int32((m * n + 5 * n + m))  # m*n+5*n+m\n",
    "    ipvt = np.zeros(n, dtype=np.int32)\n",
    "\n",
    "    wa = np.zeros(lwa, dtype=np.float64)\n",
    "\n",
    "    if udata is None:\n",
    "        udata = np.zeros(1, dtype=np.float64)\n",
    "    # else:\n",
    "    #     udata = np.asarray(udata)\n",
    "\n",
    "    _lmder1(\n",
    "        fcn,\n",
    "        m,\n",
    "        n,\n",
    "        x.ctypes.data,\n",
    "        fvec.ctypes.data,\n",
    "        fjac.ctypes.data,\n",
    "        # _address_as_void_pointer(x.ctypes.data),\n",
    "        # _address_as_void_pointer(fvec.ctypes.data),\n",
    "        # _address_as_void_pointer(fjac.ctypes.data),\n",
    "        ldfjac,\n",
    "        tol,\n",
    "        info.ctypes.data,\n",
    "        ipvt.ctypes.data,\n",
    "        wa.ctypes.data,\n",
    "        lwa,\n",
    "        udata.ctypes.data\n",
    "        # _address_as_void_pointer(udata.ctypes.data)\n",
    "    )\n",
    "    return x0, fvec, fjac, (1 <= info <= 4)[0], info[0]\n",
    "\n",
    "\n",
    "lmder1(func.address, np.ones(3) * 10, 3, 3, 3)"
   ]
  }
 ],
 "metadata": {
  "kernelspec": {
   "display_name": "mbipy310",
   "language": "python",
   "name": "python3"
  },
  "language_info": {
   "codemirror_mode": {
    "name": "ipython",
    "version": 3
   },
   "file_extension": ".py",
   "mimetype": "text/x-python",
   "name": "python",
   "nbconvert_exporter": "python",
   "pygments_lexer": "ipython3",
   "version": "3.10.12"
  },
  "orig_nbformat": 4
 },
 "nbformat": 4,
 "nbformat_minor": 2
}
